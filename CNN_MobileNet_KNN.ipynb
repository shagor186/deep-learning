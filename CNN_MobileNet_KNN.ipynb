{
 "cells": [
  {
   "cell_type": "code",
   "execution_count": 2,
   "id": "db5630fb-2f5c-41ba-a763-1ff98b426743",
   "metadata": {},
   "outputs": [],
   "source": [
    "import os\n",
    "import cv2\n",
    "import numpy as np\n",
    "from sklearn.neighbors import KNeighborsClassifier\n",
    "from tensorflow.keras.applications import MobileNetV2\n",
    "from tensorflow.keras.preprocessing.image import img_to_array\n",
    "from tensorflow.keras.applications.mobilenet_v2 import preprocess_input"
   ]
  },
  {
   "cell_type": "code",
   "execution_count": 4,
   "id": "a879246d-c3ff-469a-a368-53bdca782fbc",
   "metadata": {},
   "outputs": [
    {
     "name": "stderr",
     "output_type": "stream",
     "text": [
      "/tmp/ipykernel_70848/944957297.py:1: UserWarning: `input_shape` is undefined or non-square, or `rows` is not in [96, 128, 160, 192, 224]. Weights for input shape (224, 224) will be loaded as the default.\n",
      "  feature_extractor = MobileNetV2(weights='imagenet', include_top=False, pooling='avg')\n"
     ]
    }
   ],
   "source": [
    "feature_extractor = MobileNetV2(weights='imagenet', include_top=False, pooling='avg')"
   ]
  },
  {
   "cell_type": "code",
   "execution_count": 5,
   "id": "6a34709e-e0a8-4529-8e9e-eb32bc50d459",
   "metadata": {},
   "outputs": [],
   "source": [
    "def extract_features(img_path):\n",
    "    \"\"\"একটি ইমেজ থেকে CNN feature বের করে\"\"\"\n",
    "    try:\n",
    "        img = cv2.imread(img_path)\n",
    "        img = cv2.cvtColor(img, cv2.COLOR_BGR2RGB)\n",
    "        img = cv2.resize(img, (224, 224))\n",
    "        x = img_to_array(img)\n",
    "        x = np.expand_dims(x, axis=0)\n",
    "        x = preprocess_input(x)\n",
    "        features = feature_extractor.predict(x, verbose=0)\n",
    "        return features.flatten()\n",
    "    except:\n",
    "        return None"
   ]
  },
  {
   "cell_type": "code",
   "execution_count": 6,
   "id": "55923390-a500-4451-a89d-38c19d0f5af2",
   "metadata": {},
   "outputs": [
    {
     "name": "stdout",
     "output_type": "stream",
     "text": [
      "Training features shape: (15, 1280)\n",
      "Total persons: 4\n"
     ]
    }
   ],
   "source": [
    "train_dir = 'data/train'\n",
    "X_train, y_train = [], []\n",
    "\n",
    "for person_name in os.listdir(train_dir):\n",
    "    person_folder = os.path.join(train_dir, person_name)\n",
    "    if not os.path.isdir(person_folder):\n",
    "        continue\n",
    "    \n",
    "    for img_name in os.listdir(person_folder):\n",
    "        img_path = os.path.join(person_folder, img_name)\n",
    "        features = extract_features(img_path)\n",
    "        if features is not None:\n",
    "            X_train.append(features)\n",
    "            y_train.append(person_name)\n",
    "\n",
    "X_train = np.array(X_train)\n",
    "y_train = np.array(y_train)\n",
    "\n",
    "print(\"Training features shape:\", X_train.shape)\n",
    "print(\"Total persons:\", len(set(y_train)))"
   ]
  },
  {
   "cell_type": "code",
   "execution_count": 7,
   "id": "33679a5e-2841-442e-b393-f7a1d20f5bba",
   "metadata": {},
   "outputs": [
    {
     "name": "stdout",
     "output_type": "stream",
     "text": [
      "KNN model trained successfully!\n"
     ]
    }
   ],
   "source": [
    "knn_clf = KNeighborsClassifier(n_neighbors=3, metric='euclidean')\n",
    "knn_clf.fit(X_train, y_train)\n",
    "\n",
    "print(\"KNN model trained successfully!\")"
   ]
  },
  {
   "cell_type": "code",
   "execution_count": 8,
   "id": "6a7f7776-390e-4ecf-81bd-144495c926aa",
   "metadata": {},
   "outputs": [
    {
     "name": "stdout",
     "output_type": "stream",
     "text": [
      "Image: test_person4.jpeg → Predicted Person: person1 (Distance: 17.89)\n",
      "Image: p.jpg → Predicted Person: person1 (Distance: 17.74)\n",
      "Image: test_person3.png → Predicted Person: person1 (Distance: 21.78)\n",
      "Image: test_person2.jpeg → Predicted Person: person1 (Distance: 18.72)\n",
      "Image: test_person1.jpeg → Predicted Person: person1 (Distance: 22.80)\n",
      "Image: m.webp → Predicted Person: person2 (Distance: 18.69)\n"
     ]
    }
   ],
   "source": [
    "test_dir = 'data/test'\n",
    "\n",
    "for img_name in os.listdir(test_dir):\n",
    "    img_path = os.path.join(test_dir, img_name)\n",
    "    features = extract_features(img_path)\n",
    "    \n",
    "    if features is not None:\n",
    "        prediction = knn_clf.predict([features])[0]\n",
    "        distance, index = knn_clf.kneighbors([features], n_neighbors=1, return_distance=True)\n",
    "        print(f\"Image: {img_name} → Predicted Person: {prediction} (Distance: {distance[0][0]:.2f})\")\n",
    "    else:\n",
    "        print(f\"Could not extract features for: {img_name}\")"
   ]
  },
  {
   "cell_type": "code",
   "execution_count": null,
   "id": "5dfb55e4-c494-45d6-8dfc-4662b6b48b95",
   "metadata": {},
   "outputs": [],
   "source": []
  },
  {
   "cell_type": "code",
   "execution_count": null,
   "id": "ddb6874a-5737-4635-85b3-918f5dc81417",
   "metadata": {},
   "outputs": [],
   "source": []
  },
  {
   "cell_type": "code",
   "execution_count": null,
   "id": "4c485b04-3d38-4815-8170-f10350844319",
   "metadata": {},
   "outputs": [],
   "source": []
  },
  {
   "cell_type": "code",
   "execution_count": null,
   "id": "805b9897-c302-4a17-bc7a-6439d8c8a2a6",
   "metadata": {},
   "outputs": [],
   "source": []
  },
  {
   "cell_type": "code",
   "execution_count": null,
   "id": "1b1cd090-fa5b-48af-a523-0009d4c7984b",
   "metadata": {},
   "outputs": [],
   "source": []
  },
  {
   "cell_type": "code",
   "execution_count": null,
   "id": "4d5e6471-5f1b-46d5-97fc-958fd2c114e6",
   "metadata": {},
   "outputs": [],
   "source": []
  },
  {
   "cell_type": "code",
   "execution_count": null,
   "id": "88a13f14-9331-4e55-bc4c-c8c19f84eaf2",
   "metadata": {},
   "outputs": [],
   "source": []
  }
 ],
 "metadata": {
  "kernelspec": {
   "display_name": "Python (env_dl)",
   "language": "python",
   "name": "env_dl"
  },
  "language_info": {
   "codemirror_mode": {
    "name": "ipython",
    "version": 3
   },
   "file_extension": ".py",
   "mimetype": "text/x-python",
   "name": "python",
   "nbconvert_exporter": "python",
   "pygments_lexer": "ipython3",
   "version": "3.12.3"
  }
 },
 "nbformat": 4,
 "nbformat_minor": 5
}
